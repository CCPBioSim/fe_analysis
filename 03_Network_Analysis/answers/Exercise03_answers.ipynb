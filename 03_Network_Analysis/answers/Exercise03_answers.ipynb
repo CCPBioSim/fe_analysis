{
 "cells": [
  {
   "cell_type": "markdown",
   "metadata": {},
   "source": [
    "# Perturbation Map Analysis of Binding Free Energies of Lysozyme\n",
    "\n",
    "This notebook will guide you through how to obtain binding free energies from the using network tools. In particular we want to compute relative binding free energies with respect to benzene as a ligand to Lysozyme. \n",
    "\n",
    "The notebook forms part of the CCPBio-Sim workshop **Alchemical Free Energy Simulation Analysis with analyse_freenrg** run on the 11th of April 2018 at the University of Bristol.\n",
    "\n",
    "*Author: Antonia Mey   \n",
    "Email: antonia.mey@ed.ac.uk*\n",
    "\n",
    "**Reading time of the document: 20 mins**"
   ]
  },
  {
   "cell_type": "markdown",
   "metadata": {},
   "source": [
    "## Let's start with the necessary imports"
   ]
  },
  {
   "cell_type": "code",
   "execution_count": 1,
   "metadata": {},
   "outputs": [
    {
     "name": "stdout",
     "output_type": "stream",
     "text": [
      "Populating the interactive namespace from numpy and matplotlib\n"
     ]
    }
   ],
   "source": [
    "%pylab inline\n",
    "import seaborn as sbn\n",
    "sbn.set_style(\"ticks\")\n",
    "sbn.set_context(\"notebook\", font_scale = 2)\n",
    "from networkanalysis.networkanalysis import *\n",
    "from networkanalysis.experiments import *\n",
    "from networkanalysis.plotting import *\n",
    "from networkanalysis.stats import *"
   ]
  },
  {
   "cell_type": "markdown",
   "metadata": {},
   "source": [
    "### Perturbation maps, quick reminder\n",
    "In the previous notebook we looked at computing all the relative free energies between ligands for which we had setup simulations according to this perturbation map:   \n",
    "![foo](../images/perturbation_map.png)\n",
    "\n",
    "But, what we are of course really interested in is the relative free energy differences of the eight ligands we have simulated: benzene, indole, indene, benzofuran, p-xylene, o-xylene, isoputylbenzene and n-butylbenzne. The following notebook will guide you through exactly this and use the fact that the perturbation map is a graph or network in mathematical terms and in this way utilise a lot of network algorithms to facilitate the analysis. "
   ]
  },
  {
   "cell_type": "markdown",
   "metadata": {},
   "source": [
    "## Experimental data\n",
    "We need to read experimental data in order to be able to compare computed and experimental free energies. For this purpose a free energy file with experimental data taken from this [paper](https://www.ncbi.nlm.nih.gov/pmc/articles/PMC2104542/pdf/nihms28543.pdf) has conveniently be provided. "
   ]
  },
  {
   "cell_type": "code",
   "execution_count": 2,
   "metadata": {},
   "outputs": [],
   "source": [
    "#Initialise the experimental data\n",
    "exp_data = ExperimentalData()"
   ]
  },
  {
   "cell_type": "code",
   "execution_count": 3,
   "metadata": {},
   "outputs": [],
   "source": [
    "filename = '../data/FE_exp.csv'\n",
    "exp_data.read_free_energies(filename, kcal=True)"
   ]
  },
  {
   "cell_type": "markdown",
   "metadata": {},
   "source": [
    "The experimental data is read into a dictionary which we can access in the following way:"
   ]
  },
  {
   "cell_type": "code",
   "execution_count": 4,
   "metadata": {},
   "outputs": [
    {
     "data": {
      "text/plain": [
       "[{'benzene': 0.0, 'error': 0.4},\n",
       " {'error': 0.4, 'indole': 0.21},\n",
       " {'error': 0.4, 'n-butylbenzene': -1.51},\n",
       " {'benzofuran': -0.27, 'error': 0.4},\n",
       " {'error': 0.4, 'p-xylene': 0.52},\n",
       " {'error': 0.4, 'isobutylbenzene': -1.32},\n",
       " {'error': 0.4, 'o-xylene': 0.59},\n",
       " {'error': 0.4, 'indene': 0.06}]"
      ]
     },
     "execution_count": 4,
     "metadata": {},
     "output_type": "execute_result"
    }
   ],
   "source": [
    "exp_data.freeEnergiesInKcal"
   ]
  },
  {
   "cell_type": "markdown",
   "metadata": {},
   "source": [
    "In this case here errors are arbitrarily chosen rather than using the ones provided from the paper. "
   ]
  },
  {
   "cell_type": "markdown",
   "metadata": {},
   "source": [
    "## Simulation data \n",
    "Let's read in the simulation data, which we had computed in Exercise02. For convenience a version of the free energy file has been placed in the data directory. \n",
    "\n",
    "In order to read in the data we need to initialise a `perturbationGraph`. This object is an extension to the NetworkX library which allows easy computation of network properties, such as weighted paths etc, which is what we need in order to compute our free energies. "
   ]
  },
  {
   "cell_type": "code",
   "execution_count": 5,
   "metadata": {},
   "outputs": [],
   "source": [
    "pG = PerturbationGraph()\n",
    "pG.populate_pert_graph('../data/FE.csv')"
   ]
  },
  {
   "cell_type": "markdown",
   "metadata": {},
   "source": [
    "We can now compute weighted paths with respect to a particular ligand/compound. For the purpose of this exercise we chose benzene, as it is the compound that forms the substructure of all other simulated compounds. "
   ]
  },
  {
   "cell_type": "code",
   "execution_count": 6,
   "metadata": {},
   "outputs": [],
   "source": [
    "pG.compute_weighted_avg_paths('benzene')"
   ]
  },
  {
   "cell_type": "markdown",
   "metadata": {},
   "source": [
    "We can format free energies in a convenient way that will remove intermediates or average over multiple binding modes. This is not necessary here as we did not use multiple binding modes in the simulation or had intermediates. We can call the function none the less. "
   ]
  },
  {
   "cell_type": "code",
   "execution_count": 7,
   "metadata": {},
   "outputs": [],
   "source": [
    "pG.format_free_energies(weighted=True)"
   ]
  },
  {
   "cell_type": "markdown",
   "metadata": {},
   "source": [
    "`pG.write_free_energies` allows to write the free energies in a nicely formatted way to a file or just display to the standard output. "
   ]
  },
  {
   "cell_type": "code",
   "execution_count": 8,
   "metadata": {},
   "outputs": [
    {
     "name": "stdout",
     "output_type": "stream",
     "text": [
      "#FREE ENERGIES ARE:\n",
      "benzene    -0.000 ± 0.000\n",
      "benzofuran 1.470 ± 0.176\n",
      "indene     3.056 ± 0.169\n",
      "indole     3.933 ± 0.172\n",
      "isobutylbenzene 1.153 ± 0.177\n",
      "n-butylbenzene -0.371 ± 0.178\n",
      "o-xylene   2.083 ± 0.173\n",
      "p-xylene   1.673 ± 0.169\n"
     ]
    }
   ],
   "source": [
    "pG.write_free_energies(pG.freeEnergyInKcal)"
   ]
  },
  {
   "cell_type": "markdown",
   "metadata": {},
   "source": [
    "Computing cycle closure is a good way of ensuring that your free energies are well converged. Usually cycle closure errors of less than 1 kcal/mol are a good indication of a reliable dataset. Have a look at the cycles below that result in a poor cycle closure error. (i.e. a threshold of larger than 1 kcal/mol.)"
   ]
  },
  {
   "cell_type": "code",
   "execution_count": 9,
   "metadata": {},
   "outputs": [
    {
     "name": "stdout",
     "output_type": "stream",
     "text": [
      "DDG for cycle ['o-xylene', 'benzene', 'isobutylbenzene', 'p-xylene'] is 1.77 ± 0.16 kcal/mol\n",
      "DDG for cycle ['o-xylene', 'benzene', 'isobutylbenzene'] is 2.57 ± 0.14 kcal/mol\n",
      "DDG for cycle ['o-xylene', 'benzene', 'benzofuran', 'indole'] is 1.02 ± 0.14 kcal/mol\n",
      "DDG for cycle ['o-xylene', 'benzene', 'p-xylene', 'isobutylbenzene'] is 1.09 ± 0.16 kcal/mol\n",
      "DDG for cycle ['o-xylene', 'benzene', 'n-butylbenzene', 'isobutylbenzene'] is 5.12 ± 0.16 kcal/mol\n",
      "DDG for cycle ['o-xylene', 'benzene', 'n-butylbenzene', 'p-xylene'] is 4.16 ± 0.15 kcal/mol\n",
      "DDG for cycle ['o-xylene', 'benzene', 'n-butylbenzene', 'indene'] is 4.36 ± 0.18 kcal/mol\n",
      "DDG for cycle ['o-xylene', 'benzene', 'indole', 'p-xylene'] is 1.44 ± 0.16 kcal/mol\n",
      "DDG for cycle ['o-xylene', 'p-xylene', 'benzene', 'isobutylbenzene'] is 2.28 ± 0.15 kcal/mol\n",
      "DDG for cycle ['o-xylene', 'indene', 'p-xylene', 'isobutylbenzene'] is 1.40 ± 0.20 kcal/mol\n",
      "DDG for cycle ['o-xylene', 'indene', 'benzene', 'isobutylbenzene'] is 3.67 ± 0.16 kcal/mol\n",
      "DDG for cycle ['o-xylene', 'indene', 'benzene', 'p-xylene'] is 1.39 ± 0.14 kcal/mol\n",
      "DDG for cycle ['o-xylene', 'indene', 'benzene', 'indole'] is 1.68 ± 0.17 kcal/mol\n",
      "DDG for cycle ['o-xylene', 'indene', 'benzene'] is 1.10 ± 0.13 kcal/mol\n",
      "DDG for cycle ['o-xylene', 'indene', 'indole', 'p-xylene'] is 2.27 ± 0.17 kcal/mol\n",
      "DDG for cycle ['o-xylene', 'indene', 'indole'] is 1.41 ± 0.15 kcal/mol\n",
      "DDG for cycle ['o-xylene', 'indole', 'benzene', 'isobutylbenzene'] is 1.99 ± 0.17 kcal/mol\n",
      "DDG for cycle ['o-xylene', 'indole', 'p-xylene', 'isobutylbenzene'] is 1.66 ± 0.20 kcal/mol\n",
      "DDG for cycle ['benzofuran', 'benzene', 'n-butylbenzene', 'indene'] is 3.61 ± 0.14 kcal/mol\n",
      "DDG for cycle ['benzofuran', 'indole', 'p-xylene', 'benzene'] is 1.59 ± 0.13 kcal/mol\n",
      "DDG for cycle ['benzofuran', 'indene', 'p-xylene', 'benzene'] is 1.06 ± 0.13 kcal/mol\n",
      "DDG for cycle ['benzofuran', 'indene', 'benzene'] is 1.85 ± 0.06 kcal/mol\n",
      "DDG for cycle ['benzofuran', 'indene', 'benzene', 'indole'] is 1.41 ± 0.08 kcal/mol\n",
      "DDG for cycle ['benzofuran', 'indene', 'indole', 'benzene'] is 1.58 ± 0.08 kcal/mol\n",
      "DDG for cycle ['benzofuran', 'indene', 'indole'] is 1.14 ± 0.04 kcal/mol\n",
      "DDG for cycle ['n-butylbenzene', 'isobutylbenzene', 'benzene'] is 2.55 ± 0.13 kcal/mol\n",
      "DDG for cycle ['n-butylbenzene', 'isobutylbenzene', 'p-xylene', 'benzene'] is 4.03 ± 0.15 kcal/mol\n",
      "DDG for cycle ['n-butylbenzene', 'p-xylene', 'isobutylbenzene', 'benzene'] is 2.39 ± 0.17 kcal/mol\n",
      "DDG for cycle ['n-butylbenzene', 'p-xylene', 'indole', 'benzene'] is 2.72 ± 0.17 kcal/mol\n",
      "DDG for cycle ['n-butylbenzene', 'p-xylene', 'indene', 'benzene'] is 4.66 ± 0.16 kcal/mol\n",
      "DDG for cycle ['n-butylbenzene', 'p-xylene', 'benzene', 'isobutylbenzene'] is 1.32 ± 0.15 kcal/mol\n",
      "DDG for cycle ['n-butylbenzene', 'p-xylene', 'benzene'] is 3.87 ± 0.13 kcal/mol\n",
      "DDG for cycle ['n-butylbenzene', 'indene', 'p-xylene', 'benzene'] is 4.67 ± 0.18 kcal/mol\n",
      "DDG for cycle ['n-butylbenzene', 'indene', 'benzene', 'isobutylbenzene'] is 2.91 ± 0.15 kcal/mol\n",
      "DDG for cycle ['n-butylbenzene', 'indene', 'benzene', 'p-xylene'] is 1.59 ± 0.15 kcal/mol\n",
      "DDG for cycle ['n-butylbenzene', 'indene', 'benzene'] is 5.46 ± 0.13 kcal/mol\n",
      "DDG for cycle ['n-butylbenzene', 'indene', 'indole', 'benzene'] is 5.19 ± 0.14 kcal/mol\n",
      "DDG for cycle ['n-butylbenzene', 'indene', 'indole', 'p-xylene'] is 2.47 ± 0.17 kcal/mol\n",
      "DDG for cycle ['indene', 'benzene', 'isobutylbenzene', 'p-xylene'] is 2.27 ± 0.17 kcal/mol\n",
      "DDG for cycle ['indene', 'benzene', 'indole', 'p-xylene'] is 1.94 ± 0.17 kcal/mol\n",
      "DDG for cycle ['indene', 'indole', 'p-xylene'] is 1.67 ± 0.16 kcal/mol\n",
      "DDG for cycle ['indole', 'p-xylene', 'benzene'] is 1.15 ± 0.14 kcal/mol\n",
      "DDG for cycle ['benzene', 'isobutylbenzene', 'p-xylene'] is 1.48 ± 0.13 kcal/mol\n"
     ]
    }
   ],
   "source": [
    "pG.get_cycles()"
   ]
  },
  {
   "cell_type": "markdown",
   "metadata": {},
   "source": [
    "**Task: What does the above suggest for the dataset?**"
   ]
  },
  {
   "cell_type": "markdown",
   "metadata": {},
   "source": [
    "### Plotting results\n",
    "freenrgworkflows has a couple of common plotting functions, namely a scatter and bar plot to compare experimental and computed free energy values. We initialise the plotter by giving it an experimental set of free energy values and computed set of free energy values. "
   ]
  },
  {
   "cell_type": "code",
   "execution_count": 10,
   "metadata": {},
   "outputs": [
    {
     "name": "stdout",
     "output_type": "stream",
     "text": [
      "['benzene' 'benzofuran' 'indene' 'indole' 'isobutylbenzene'\n",
      " 'n-butylbenzene' 'o-xylene' 'p-xylene']\n"
     ]
    }
   ],
   "source": [
    "fep = FreeEnergyPlotter(exp_data.freeEnergiesInKcal,pG.freeEnergyInKcal)"
   ]
  },
  {
   "cell_type": "markdown",
   "metadata": {},
   "source": [
    "The bar plot is called in the following way:"
   ]
  },
  {
   "cell_type": "code",
   "execution_count": 11,
   "metadata": {},
   "outputs": [
    {
     "data": {
      "text/plain": [
       "(<matplotlib.axes._subplots.AxesSubplot at 0x7f57321e1d68>,\n",
       " <matplotlib.figure.Figure at 0x7f57321e1710>)"
      ]
     },
     "execution_count": 11,
     "metadata": {},
     "output_type": "execute_result"
    },
    {
     "data": {
      "image/png": "[encoded data removed]",
      "text/plain": [
       "<matplotlib.figure.Figure at 0x7f57321e1710>"
      ]
     },
     "metadata": {},
     "output_type": "display_data"
    }
   ],
   "source": [
    "fep.plot_bar_plot()"
   ]
  },
  {
   "cell_type": "markdown",
   "metadata": {},
   "source": [
    "The same data in a scatter plot looks like this:"
   ]
  },
  {
   "cell_type": "code",
   "execution_count": 12,
   "metadata": {},
   "outputs": [
    {
     "data": {
      "image/png": "[encoded data removed]",
      "text/plain": [
       "<matplotlib.figure.Figure at 0x7f5727228f28>"
      ]
     },
     "metadata": {},
     "output_type": "display_data"
    }
   ],
   "source": [
    "fep.plot_scatter_plot()"
   ]
  },
  {
   "cell_type": "markdown",
   "metadata": {},
   "source": [
    "### Statistics\n",
    "Now we might want to know something about the statistics of the computed free energies, i.e what is the correlation between the two datasets and what is the mean unsigned error in kcal/mol. The statistics module has basic functionality for that and computes samples of the dataset in order to look at the spread and reliability of the correlation estimate. \n"
   ]
  },
  {
   "cell_type": "code",
   "execution_count": 13,
   "metadata": {},
   "outputs": [],
   "source": [
    "stats = freeEnergyStats()"
   ]
  },
  {
   "cell_type": "markdown",
   "metadata": {},
   "source": [
    "The next cell will generate 10000 samples of the dataset in order to assess the spread in the measures used here: correlation coefficient R, Kendall tau and mean unsigned error. "
   ]
  },
  {
   "cell_type": "code",
   "execution_count": 14,
   "metadata": {},
   "outputs": [],
   "source": [
    "stats.generate_statistics(pG.freeEnergyInKcal,exp_data.freeEnergiesInKcal,repeats=10000)"
   ]
  },
  {
   "cell_type": "code",
   "execution_count": 15,
   "metadata": {},
   "outputs": [
    {
     "name": "stdout",
     "output_type": "stream",
     "text": [
      "Summary of statistics:\n",
      "----------------------\n",
      "Correlation coefficient: 0.57 ± 0.03\n",
      "R^2:                     0.32 ± 0.04\n",
      "Kendall tau:             0.54 ± 0.04\n",
      "mean unsigned error:     1.84 ± 1.84 [kcal/mol]\n"
     ]
    }
   ],
   "source": [
    "print ('Summary of statistics:')\n",
    "print ('----------------------')\n",
    "print ('Correlation coefficient: %.2f ± %.2f' %(stats.R, stats.R_std))\n",
    "print ('R^2:                     %.2f ± %.2f' %(stats.R2, stats.R2_std))\n",
    "print ('Kendall tau:             %.2f ± %.2f' %(stats.tau, stats.tau_std))\n",
    "print ('mean unsigned error:     %.2f ± %.2f [kcal/mol]' %(stats.mue, stats.mue_std))"
   ]
  },
  {
   "cell_type": "markdown",
   "metadata": {},
   "source": [
    "**Tasks:**   \n",
    "- Look up exactly what R, R^2 and tau measure and make sure you understand what the values mean. \n",
    "- You will find a second dataset (data/FE_second.csv) as well as the TI data (data/FE_ti.csv) in the data directory. Run the same analysis with the second data set. What do you observe? "
   ]
  },
  {
   "cell_type": "code",
   "execution_count": null,
   "metadata": {},
   "outputs": [],
   "source": [
    "# Read in second set of simulation data\n",
    "pG_2 = PerturbationGraph()\n",
    "pG_2.populate_pert_graph('../data/FE_second.csv')\n",
    "pG_2.compute_weighted_avg_paths('benzene')"
   ]
  },
  {
   "cell_type": "code",
   "execution_count": null,
   "metadata": {},
   "outputs": [],
   "source": [
    "# Look at plots of second simulation set with respect to the experimental values\n",
    "\n"
   ]
  },
  {
   "cell_type": "code",
   "execution_count": null,
   "metadata": {},
   "outputs": [],
   "source": [
    "# Run the statistical analysis of the second data set with respect to the experimental values. \n",
    "\n"
   ]
  },
  {
   "cell_type": "markdown",
   "metadata": {},
   "source": [
    "## A little quiz for the end\n",
    "Please have a quick look at this quiz to see what you have learned from this notebook: https://goo.gl/forms/Onsdxftz1DnLDekM2"
   ]
  },
  {
   "cell_type": "markdown",
   "metadata": {},
   "source": [
    "Congratulations you are now able to analyse alchemical free energy calculations!"
   ]
  }
 ],
 "metadata": {
  "kernelspec": {
   "display_name": "Python 3",
   "language": "python",
   "name": "python3"
  },
  "language_info": {
   "codemirror_mode": {
    "name": "ipython",
    "version": 3
   },
   "file_extension": ".py",
   "mimetype": "text/x-python",
   "name": "python",
   "nbconvert_exporter": "python",
   "pygments_lexer": "ipython3",
   "version": "3.5.2"
  }
 },
 "nbformat": 4,
 "nbformat_minor": 2
}
